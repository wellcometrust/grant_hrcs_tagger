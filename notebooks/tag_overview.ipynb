{
 "cells": [
  {
   "cell_type": "markdown",
   "metadata": {},
   "source": [
    "# Tag Distribution Breakdown"
   ]
  },
  {
   "cell_type": "code",
   "execution_count": 1,
   "metadata": {},
   "outputs": [],
   "source": [
    "import pandas as pd"
   ]
  },
  {
   "cell_type": "code",
   "execution_count": 2,
   "metadata": {},
   "outputs": [],
   "source": [
    "pd.options.display.max_columns = None"
   ]
  },
  {
   "cell_type": "markdown",
   "metadata": {},
   "source": [
    "### HRCS Research Activity Codes\n",
    "#### Top level RAC codes"
   ]
  },
  {
   "cell_type": "code",
   "execution_count": null,
   "metadata": {},
   "outputs": [],
   "source": [
    "ra_df = pd.read_parquet('../data/clean/ukhra_ra.parquet')\n",
    "ra_df['count'] = 1\n",
    "ra_df.head()"
   ]
  },
  {
   "cell_type": "code",
   "execution_count": null,
   "metadata": {},
   "outputs": [],
   "source": [
    "higher_ra_counts = ra_df[['RA1', 'count']].copy()\n",
    "higher_ra_counts = higher_ra_counts.groupby('RA1', as_index=False).sum()\n",
    "higher_ra_counts.plot(kind='barh', y='count', x='RA1', figsize=(10, 3));"
   ]
  },
  {
   "cell_type": "markdown",
   "metadata": {},
   "source": [
    "#### Lower level RAC codes"
   ]
  },
  {
   "cell_type": "code",
   "execution_count": null,
   "metadata": {},
   "outputs": [],
   "source": [
    "ra_counts = ra_df[['RA2', 'count']].groupby('RA2', as_index=False).sum()\n",
    "ra_counts.plot(kind='barh', y='count', x='RA2', figsize=(10, 15));"
   ]
  },
  {
   "cell_type": "markdown",
   "metadata": {},
   "source": [
    "### HRCS Health Categories"
   ]
  },
  {
   "cell_type": "code",
   "execution_count": null,
   "metadata": {},
   "outputs": [],
   "source": [
    "hc_df = pd.read_parquet('../data/clean/ukhra_hc.parquet')\n",
    "hc_df['count'] = 1\n",
    "hc_df.head()"
   ]
  },
  {
   "cell_type": "code",
   "execution_count": null,
   "metadata": {},
   "outputs": [],
   "source": [
    "higher_hc_counts = hc_df[['HC', 'count']].copy()\n",
    "higher_hc_counts = higher_hc_counts.groupby('HC', as_index=False).sum()\n",
    "higher_hc_counts.plot(kind='barh', y='count', x='HC', figsize=(9, 8));"
   ]
  }
 ],
 "metadata": {
  "kernelspec": {
   "display_name": "hrcs_tagger",
   "language": "python",
   "name": "python3"
  },
  "language_info": {
   "codemirror_mode": {
    "name": "ipython",
    "version": 3
   },
   "file_extension": ".py",
   "mimetype": "text/x-python",
   "name": "python",
   "nbconvert_exporter": "python",
   "pygments_lexer": "ipython3",
   "version": "3.11.11"
  }
 },
 "nbformat": 4,
 "nbformat_minor": 2
}
