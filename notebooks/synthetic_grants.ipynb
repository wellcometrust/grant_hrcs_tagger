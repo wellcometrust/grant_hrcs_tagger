{
 "cells": [
  {
   "cell_type": "markdown",
   "metadata": {},
   "source": [
    "## A notebook to generate synthetic grants for underrepresented RA categories"
   ]
  },
  {
   "cell_type": "code",
   "execution_count": null,
   "metadata": {},
   "outputs": [],
   "source": [
    "import pandas as pd\n",
    "import json\n",
    "from tqdm import tqdm\n",
    "\n",
    "from langchain_community.llms import Ollama"
   ]
  },
  {
   "cell_type": "code",
   "execution_count": null,
   "metadata": {},
   "outputs": [],
   "source": [
    "\n",
    "llm = Ollama(model=\"mixtral\", num_gpu=1, keep_alive='1h', format='json')\n",
    "# llm.invoke(\"Why is the sky blue?\")\n",
    "\n",
    "n = 20\n",
    "def llama_prompt(text):\n",
    "    return llm.invoke(f\"\"\"\n",
    "        <purpose>              \n",
    "        please create {n} separate grants from the following selection criteria. \n",
    "        </purpose>\n",
    "\n",
    "        <instructions>\n",
    "            <instruction> For each grant, I want a title and abstract, as a dictionary ('title' and 'abstract' as keys) which I can parse using json.loads() in Python. </instruction>\n",
    "            <instruction> The output should look like a jsonl of length {n} with each line being a dictionary with 'title' and 'abstract' keys </instruction>\n",
    "            <instruction> Make sure to return EXACTLY {n} grants. Do not include any explanations or apologies in your responses. </instruction>\n",
    "            <instruction> Please make sure that the abstracts are coherent and relevant to the title. </instruction>\n",
    "            <instruction> The grants should be written in a formal tone. </instruction>\n",
    "            <instruction> the grant selection criteria can be found below. </instruction>\n",
    "        </instructions>\n",
    "    \n",
    "        <content>\n",
    "        {text}\n",
    "        </content>\n",
    "\n",
    "\n",
    "    \"\"\")"
   ]
  },
  {
   "cell_type": "code",
   "execution_count": null,
   "metadata": {},
   "outputs": [],
   "source": [
    "jsonl_path = \"../data/label_names/ra_description.jsonl\"\n",
    "\n",
    "with open(jsonl_path, \"r\") as f:\n",
    "    cat_dict = [json.loads(line) for line in f]\n"
   ]
  },
  {
   "cell_type": "code",
   "execution_count": null,
   "metadata": {},
   "outputs": [],
   "source": [
    "train = pd.read_parquet('../data/preprocessed/ra/train.parquet')"
   ]
  },
  {
   "cell_type": "code",
   "execution_count": null,
   "metadata": {},
   "outputs": [],
   "source": [
    "pd_synthetic = pd.DataFrame(columns=train.columns)\n",
    "pd_synthetic.to_csv(\"../data/synthetic/ra/train.csv\", index=False)"
   ]
  },
  {
   "cell_type": "code",
   "execution_count": null,
   "metadata": {},
   "outputs": [
    {
     "name": "stderr",
     "output_type": "stream",
     "text": [
      " 33%|███▎      | 4/12 [19:35<43:14, 324.30s/it]"
     ]
    }
   ],
   "source": [
    "# set a limit on trial runs, sometimes the llm does not return the structured output we were hoping for\n",
    "trial_runs = 3\n",
    "\n",
    "for i in range(trial_runs):\n",
    "    for ra_category in tqdm(cat_dict):\n",
    "        key = list(ra_category.keys())[0]\n",
    "        cat_description = ra_category[key]\n",
    "\n",
    "        # read in in case of interruption\n",
    "        pd_synthetic = pd.read_csv(\"../data/synthetic/ra/train.csv\")\n",
    "\n",
    "        # find categories that are done so we can skipt these\n",
    "        # categories done have at least one grant in the synthetic dataset\n",
    "        done = list(pd_synthetic.columns[:-1][pd_synthetic.sum()[:-1]>0])\n",
    "\n",
    "        if key not in done:\n",
    "            category = key\n",
    "            result = llama_prompt(cat_description)\n",
    "            result_json = json.loads(result)\n",
    "\n",
    "            # if result_json is a list, transform back to a dictionary\n",
    "            if isinstance(result_json, list):\n",
    "                result_json = {i: result for i, result in enumerate(result_json)}\n",
    "            # check if result_json is a dictionary or a list of dictionaries\n",
    "            elif isinstance(result_json, dict):\n",
    "                result_json = [result for result in list(result_json.values())]\n",
    "                if isinstance(result_json[0], list):\n",
    "                    result_json = [result for result in result_json[0]]\n",
    "            # check if result_json is a list of dictionaries or a list of lists\n",
    "            elif isinstance(result_json[0], list):\n",
    "                result_json = [result for result in result_json[0]]\n",
    "\n",
    "            for grant in result_json:\n",
    "                grant_text = grant['title']+' '+grant['abstract']\n",
    "                grant_text = grant_text.replace('\\n', ' ')\n",
    "                grant_text = grant_text.replace('\\r', ' ')\n",
    "                grant_text = grant_text.replace('\\t', ' ')\n",
    "                grant_text = grant_text.lower()\n",
    "                labels = [0]*(len(train.columns)-1)\n",
    "                new_row = pd.DataFrame([list(labels)+[grant_text]], columns=train.columns)\n",
    "                # insert 1 at column corresponding to category\n",
    "                new_row[category] = 1\n",
    "\n",
    "                # add new row to synthetic dataset\n",
    "                pd_synthetic = pd.concat([pd_synthetic, new_row], ignore_index=True)\n",
    "\n",
    "                # save synthetic dataset\n",
    "                pd_synthetic.to_csv(\"../data/synthetic/ra/train.csv\", index=False)\n"
   ]
  },
  {
   "cell_type": "code",
   "execution_count": null,
   "metadata": {},
   "outputs": [],
   "source": [
    "# scramble rows\n",
    "train_enhanced = train_enhanced.sample(frac=1).reset_index(drop=True)\n",
    "\n",
    "# save\n",
    "train_enhanced.to_parquet('../data/preprocessed/ra/train_enhanced.parquet')"
   ]
  }
 ],
 "metadata": {
  "kernelspec": {
   "display_name": "hrcs_tagger",
   "language": "python",
   "name": "python3"
  },
  "language_info": {
   "codemirror_mode": {
    "name": "ipython",
    "version": 3
   },
   "file_extension": ".py",
   "mimetype": "text/x-python",
   "name": "python",
   "nbconvert_exporter": "python",
   "pygments_lexer": "ipython3",
   "version": "3.11.11"
  }
 },
 "nbformat": 4,
 "nbformat_minor": 2
}
